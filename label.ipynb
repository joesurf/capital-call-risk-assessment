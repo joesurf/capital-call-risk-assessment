{
 "cells": [
  {
   "cell_type": "code",
   "execution_count": 1,
   "metadata": {},
   "outputs": [],
   "source": [
    "import pandas as pd"
   ]
  },
  {
   "cell_type": "code",
   "execution_count": 2,
   "metadata": {},
   "outputs": [],
   "source": [
    "DEMOGRAPHIC_COEFF = 5\n",
    "FINANCIAL_COEFF = 10\n",
    "BEHAVIOURAL_COEFF = 7"
   ]
  },
  {
   "cell_type": "code",
   "execution_count": 56,
   "metadata": {},
   "outputs": [],
   "source": [
    "age_risk_profile = pd.read_csv('data_label_criteria/Age Risk Profile.csv')\n",
    "net_worth_risk_profile = pd.read_csv('data_label_criteria/Net Worth Profile.csv')\n",
    "occupation_risk_profile = pd.read_csv('data_label_criteria/Occupation Risk Profile.csv')\n",
    "source_of_wealth_risk_profile = pd.read_csv('data_label_criteria/Source of Wealth Risk Profile.csv')\n",
    "income_risk_profile = pd.read_csv('data_label_criteria/Income Risk Profile.csv')\n",
    "speed_of_payment_risk_profile = pd.read_csv('data_label_criteria/Speed of Payment Risk Profile.csv')"
   ]
  },
  {
   "cell_type": "code",
   "execution_count": 16,
   "metadata": {},
   "outputs": [
    {
     "data": {
      "text/plain": [
       "0           24 Business & Administration Professionals\n",
       "1    33 Business & Administration Associate Profess...\n",
       "2             43 Numerical & Material-Recording Clerks\n",
       "3    14 Hospitality, Retail & Related Services Mana...\n",
       "4               42 Customer Services Officers & Clerks\n",
       "Name: Occupation, dtype: object"
      ]
     },
     "execution_count": 16,
     "metadata": {},
     "output_type": "execute_result"
    }
   ],
   "source": [
    "# read synthetic\n",
    "synthetic_data = pd.read_csv('final_with_ratios_synthetic_distribution.csv')\n",
    "synthetic_data['Occupation'].head()"
   ]
  },
  {
   "cell_type": "code",
   "execution_count": 6,
   "metadata": {},
   "outputs": [
    {
     "data": {
      "text/plain": [
       "Index(['wealth - salary', 'wealth - investment gain', 'wealth - rental income',\n",
       "       'wealth - business revenue', 'wealth - inheritance', 'wealth - others',\n",
       "       'fund - salary', 'fund - investment gain', 'fund - rental income',\n",
       "       'fund - business revenue', 'fund - inheritance', 'fund - others', 'Age',\n",
       "       'Occupation', 'Industry', 'speed_of_payment', 'Income',\n",
       "       'Adjusted Income', 'Annual Income', 'Adjusted Annual Income',\n",
       "       'Income Multiplier Based on Age', 'Wealth Indicator', 'Net Worth',\n",
       "       'Proposed Subscription Amount', 'Net Worth / Total Commitment',\n",
       "       'Income / Total Commitment'],\n",
       "      dtype='object')"
      ]
     },
     "execution_count": 6,
     "metadata": {},
     "output_type": "execute_result"
    }
   ],
   "source": [
    "synthetic_data.columns"
   ]
  },
  {
   "cell_type": "code",
   "execution_count": 36,
   "metadata": {},
   "outputs": [
    {
     "data": {
      "text/plain": [
       "{'Under 30': 7, '30-40': 6, '40-50': 3, '50-60': 4, '60 and above': 5}"
      ]
     },
     "execution_count": 36,
     "metadata": {},
     "output_type": "execute_result"
    }
   ],
   "source": [
    "age_risk_profile.set_index('Age Range').to_dict()['Score']"
   ]
  },
  {
   "cell_type": "code",
   "execution_count": 37,
   "metadata": {},
   "outputs": [],
   "source": [
    "def label_risk_for_age(age):\n",
    "    age_risk_profile_dict = age_risk_profile.set_index('Age Range').to_dict()['Score']\n",
    "    if age <= 30:\n",
    "        return age_risk_profile_dict['Under 30']\n",
    "    elif age <= 40:\n",
    "        return age_risk_profile_dict['30-40']\n",
    "    elif age <= 50:\n",
    "        return age_risk_profile_dict['40-50']\n",
    "    elif age <= 60:\n",
    "        return age_risk_profile_dict['50-60']\n",
    "    else:\n",
    "        return age_risk_profile_dict['60 and above']"
   ]
  },
  {
   "cell_type": "code",
   "execution_count": 38,
   "metadata": {},
   "outputs": [
    {
     "data": {
      "text/plain": [
       "{'<$50,000': 8,\n",
       " '$50,000 - $100,000': 7,\n",
       " '$100,000 - $250,000': 6,\n",
       " '$250,000 - $500,000': 5,\n",
       " '$500,000 - $1 million': 4,\n",
       " '$1 million - $5 million': 3,\n",
       " '>$5 million': 2}"
      ]
     },
     "execution_count": 38,
     "metadata": {},
     "output_type": "execute_result"
    }
   ],
   "source": [
    "net_worth_risk_profile.set_index('Asset Range').to_dict()['Score']"
   ]
  },
  {
   "cell_type": "code",
   "execution_count": 39,
   "metadata": {},
   "outputs": [],
   "source": [
    "def label_risk_for_net_worth(net_worth):\n",
    "    net_worth_risk_profile_dict = net_worth_risk_profile.set_index('Asset Range').to_dict()['Score']\n",
    "    if net_worth < 50000:\n",
    "        return net_worth_risk_profile_dict['<$50,000']\n",
    "    elif net_worth <= 100000:\n",
    "        return net_worth_risk_profile_dict['$50,000 - $100,000']\n",
    "    elif net_worth <= 250000:\n",
    "        return net_worth_risk_profile_dict['$100,000 - $250,000']\n",
    "    elif net_worth <= 500000:\n",
    "        return net_worth_risk_profile_dict['$250,000 - $500,000']\n",
    "    elif net_worth <= 1000000:\n",
    "        return net_worth_risk_profile_dict['$500,000 - $1 million']\n",
    "    elif net_worth <= 5000000:\n",
    "        return net_worth_risk_profile_dict['$1 million - $5 million']\n",
    "    else:\n",
    "        return net_worth_risk_profile_dict['>$5 million']"
   ]
  },
  {
   "cell_type": "code",
   "execution_count": 40,
   "metadata": {},
   "outputs": [
    {
     "data": {
      "text/plain": [
       "{'11 Legislators, Senior Officials & Chief Executives': 3,\n",
       " '12 Administrative & Commercial Managers': 4,\n",
       " '13 Production & Specialised Services Managers': 5,\n",
       " '14 Hospitality, Retail & Related Services Managers': 6,\n",
       " '21 Science & Engineering Professionals': 3,\n",
       " '22 Health Professionals': 3,\n",
       " '23 Teaching & Training Professionals': 5,\n",
       " '24 Business & Administration Professionals': 5,\n",
       " '25 Information & Communications Technology Professionals': 4,\n",
       " '26 Legal, Social, Religious & Cultural Professionals': 6,\n",
       " '31 Physical & Engineering Science Associate Professionals': 5,\n",
       " '32 Health Associate Professionals': 5,\n",
       " '33 Business & Administration Associate Professionals': 5,\n",
       " '34 Legal, Social, Cultural & Related Associate Professionals': 6,\n",
       " '35 Information & Communications Technicians': 6,\n",
       " '36 Teaching Associate Professionals': 6,\n",
       " '39 Other Associate Professionals Not Elsewhere Classified': 6,\n",
       " '40 Clerical Supervisors': 5,\n",
       " '41 General & Keyboard Clerks': 7,\n",
       " '42 Customer Services Officers & Clerks': 6,\n",
       " '43 Numerical & Material-Recording Clerks': 6,\n",
       " '44 Other Clerical Support Workers': 7,\n",
       " '51 Personal Service Workers': 6,\n",
       " '52 Sales Workers': 8,\n",
       " '53 Personal Care Workers': 7,\n",
       " '54 Protective Services Workers': 5,\n",
       " '59 Service Workers Not Elsewhere Classified': 8,\n",
       " '61 - 62 Agricultural & Fishery Workers': 6,\n",
       " '71 Building & Related Trades Workers, Excluding Electricians': 5,\n",
       " '72 Metal, Machinery & Related Trades Workers': 5,\n",
       " '73 Precision, Handicraft, Printing & Related Trades Workers': 7,\n",
       " '74 Electrical & Electronic Trades Workers': 5,\n",
       " '75 Food Processing, Woodworking, Garment, Leather & Other Craft & Related Trades Workers': 7,\n",
       " '81 Stationary Plant & Machine Operators': 5,\n",
       " '82 Assemblers & Quality Checkers': 6,\n",
       " '83 Drivers & Mobile Machinery Operators': 5,\n",
       " '91 Cleaners & Related Workers': 8,\n",
       " '92 Agricultural, Fishery & Related Labourers': 7,\n",
       " '93 Labourers & Related Workers': 8,\n",
       " '94 Food Preparation & Kitchen Assistants': 7,\n",
       " '96 Waste Collection, Recycling & Material Recovery Workers & Other Elementary Workers': 8,\n",
       " 'X1 - X5 Workers Not Elsewhere Classified': 6}"
      ]
     },
     "execution_count": 40,
     "metadata": {},
     "output_type": "execute_result"
    }
   ],
   "source": [
    "occupation_risk_profile.set_index('Occupation').to_dict()['Score']"
   ]
  },
  {
   "cell_type": "code",
   "execution_count": 41,
   "metadata": {},
   "outputs": [],
   "source": [
    "def label_risk_for_occupation(occupation):\n",
    "    occupation_risk_profile_dict = occupation_risk_profile.set_index('Occupation').to_dict()['Score']\n",
    "    return occupation_risk_profile_dict.get(occupation, None)\n"
   ]
  },
  {
   "cell_type": "code",
   "execution_count": 42,
   "metadata": {},
   "outputs": [
    {
     "data": {
      "text/plain": [
       "{'<$25,000': 8,\n",
       " '$25,000 - $50,000': 7,\n",
       " '$50,000 - $75,000': 6,\n",
       " '$75,000 - $100,000': 5,\n",
       " '$100,000 - $150,000': 4,\n",
       " '$150,000 - $200,000': 3,\n",
       " '>$200,000': 2}"
      ]
     },
     "execution_count": 42,
     "metadata": {},
     "output_type": "execute_result"
    }
   ],
   "source": [
    "income_risk_profile.set_index('Income Range').to_dict()['Score']"
   ]
  },
  {
   "cell_type": "code",
   "execution_count": 43,
   "metadata": {},
   "outputs": [],
   "source": [
    "def label_risk_for_income(income):\n",
    "    income_risk_profile_dict = income_risk_profile.set_index('Income Range').to_dict()['Score']\n",
    "    if income < 25000:\n",
    "        return income_risk_profile_dict['<$25,000']\n",
    "    elif income <= 50000:\n",
    "        return income_risk_profile_dict['$25,000 - $50,000']\n",
    "    elif income <= 75000:\n",
    "        return income_risk_profile_dict['$50,000 - $75,000']\n",
    "    elif income <= 100000:\n",
    "        return income_risk_profile_dict['$75,000 - $100,000']\n",
    "    elif income <= 150000:\n",
    "        return income_risk_profile_dict['$100,000 - $150,000']\n",
    "    elif income <= 200000:\n",
    "        return income_risk_profile_dict['$150,000 - $200,000']\n",
    "    else:\n",
    "        return income_risk_profile_dict['>$200,000']\n"
   ]
  },
  {
   "cell_type": "code",
   "execution_count": 59,
   "metadata": {},
   "outputs": [
    {
     "data": {
      "text/plain": [
       "{'Salary': 6,\n",
       " 'Investment Gain': 4,\n",
       " 'Business Revenue': 5,\n",
       " 'Rental Income': 4,\n",
       " 'Inheritance': 5,\n",
       " 'Others (including crypto holdings and royalties)': 7}"
      ]
     },
     "execution_count": 59,
     "metadata": {},
     "output_type": "execute_result"
    }
   ],
   "source": [
    "source_of_wealth_risk_profile.set_index('Source of Wealth').to_dict()['Score']"
   ]
  },
  {
   "cell_type": "code",
   "execution_count": 70,
   "metadata": {},
   "outputs": [],
   "source": [
    "def label_risk_for_source_of_wealth(salary, investment_gain, rental_income, business_revenue, inheritance, others):\n",
    "    aggregate_risk = 0\n",
    "    source_of_wealth_risk_profile_dict = source_of_wealth_risk_profile.set_index('Source of Wealth').to_dict()['Score']\n",
    "    \n",
    "    if salary:\n",
    "        aggregate_risk += source_of_wealth_risk_profile_dict.get('Salary', 0)\n",
    "    if investment_gain:\n",
    "        aggregate_risk += source_of_wealth_risk_profile_dict.get('Investment Gain', 0)\n",
    "    if rental_income:\n",
    "        aggregate_risk += source_of_wealth_risk_profile_dict.get('Rental Income', 0)\n",
    "    if business_revenue:\n",
    "        aggregate_risk += source_of_wealth_risk_profile_dict.get('Business Revenue', 0)\n",
    "    if inheritance:\n",
    "        aggregate_risk += source_of_wealth_risk_profile_dict.get('Inheritance', 0)\n",
    "    if others:\n",
    "        aggregate_risk += source_of_wealth_risk_profile_dict.get('Others (including crypto holdings and royalties)', 0)\n",
    "\n",
    "    return aggregate_risk\n"
   ]
  },
  {
   "cell_type": "code",
   "execution_count": 71,
   "metadata": {},
   "outputs": [
    {
     "data": {
      "text/plain": [
       "{'0 - 10 days': 2,\n",
       " '11 - 20 days': 3,\n",
       " '21 - 30 days': 4,\n",
       " '31 - 40 days': 5,\n",
       " '41 - 60 days': 6,\n",
       " '61 - 80 days': 8}"
      ]
     },
     "execution_count": 71,
     "metadata": {},
     "output_type": "execute_result"
    }
   ],
   "source": [
    "speed_of_payment_risk_profile.set_index('Payment Speed (Days)').to_dict()['Score']"
   ]
  },
  {
   "cell_type": "code",
   "execution_count": 72,
   "metadata": {},
   "outputs": [],
   "source": [
    "def label_risk_for_speed_of_payment(payment_speed):\n",
    "    speed_of_payment_risk_profile_dict = speed_of_payment_risk_profile.set_index('Payment Speed (Days)').to_dict()['Score']\n",
    "    if 0 <= payment_speed <= 10:\n",
    "        return speed_of_payment_risk_profile_dict.get('0 - 10 days', 0)\n",
    "    elif 11 <= payment_speed <= 20:\n",
    "        return speed_of_payment_risk_profile_dict.get('11 - 20 days', 0)\n",
    "    elif 21 <= payment_speed <= 30:\n",
    "        return speed_of_payment_risk_profile_dict.get('21 - 30 days', 0)\n",
    "    elif 31 <= payment_speed <= 40:\n",
    "        return speed_of_payment_risk_profile_dict.get('31 - 40 days', 0)\n",
    "    elif 41 <= payment_speed <= 60:\n",
    "        return speed_of_payment_risk_profile_dict.get('41 - 60 days', 0)\n",
    "    elif 61 <= payment_speed <= 80:\n",
    "        return speed_of_payment_risk_profile_dict.get('61 - 80 days', 0)\n",
    "    else:\n",
    "        return 0\n"
   ]
  },
  {
   "cell_type": "code",
   "execution_count": 77,
   "metadata": {},
   "outputs": [],
   "source": [
    "def risk_score_formula(age, occupation, income, net_worth, salary, investment_gain, rental_income, business_revenue, inheritance, others, speed_of_payment):\n",
    "    return \\\n",
    "        DEMOGRAPHIC_COEFF * label_risk_for_age(age) + \\\n",
    "            DEMOGRAPHIC_COEFF * label_risk_for_occupation(occupation) + \\\n",
    "                FINANCIAL_COEFF * label_risk_for_income(income) + \\\n",
    "                    FINANCIAL_COEFF * label_risk_for_net_worth(net_worth) + \\\n",
    "                        FINANCIAL_COEFF * label_risk_for_source_of_wealth(salary, investment_gain, rental_income, business_revenue, inheritance, others) + \\\n",
    "                            BEHAVIOURAL_COEFF * label_risk_for_speed_of_payment(speed_of_payment)"
   ]
  },
  {
   "cell_type": "code",
   "execution_count": 78,
   "metadata": {},
   "outputs": [
    {
     "name": "stdout",
     "output_type": "stream",
     "text": [
      "<class 'pandas.core.frame.DataFrame'>\n",
      "Index: 1000 entries, 120 to 211\n",
      "Data columns (total 28 columns):\n",
      " #   Column                          Non-Null Count  Dtype  \n",
      "---  ------                          --------------  -----  \n",
      " 0   wealth - salary                 1000 non-null   bool   \n",
      " 1   wealth - investment gain        1000 non-null   bool   \n",
      " 2   wealth - rental income          1000 non-null   bool   \n",
      " 3   wealth - business revenue       1000 non-null   bool   \n",
      " 4   wealth - inheritance            1000 non-null   bool   \n",
      " 5   wealth - others                 1000 non-null   bool   \n",
      " 6   fund - salary                   1000 non-null   bool   \n",
      " 7   fund - investment gain          1000 non-null   bool   \n",
      " 8   fund - rental income            1000 non-null   bool   \n",
      " 9   fund - business revenue         1000 non-null   bool   \n",
      " 10  fund - inheritance              1000 non-null   bool   \n",
      " 11  fund - others                   1000 non-null   bool   \n",
      " 12  Age                             1000 non-null   int64  \n",
      " 13  Occupation                      1000 non-null   object \n",
      " 14  Industry                        1000 non-null   object \n",
      " 15  speed_of_payment                1000 non-null   int64  \n",
      " 16  Income                          1000 non-null   float64\n",
      " 17  Adjusted Income                 1000 non-null   float64\n",
      " 18  Annual Income                   1000 non-null   float64\n",
      " 19  Adjusted Annual Income          1000 non-null   float64\n",
      " 20  Income Multiplier Based on Age  1000 non-null   float64\n",
      " 21  Wealth Indicator                1000 non-null   int64  \n",
      " 22  Net Worth                       1000 non-null   float64\n",
      " 23  Proposed Subscription Amount    1000 non-null   int64  \n",
      " 24  Net Worth / Total Commitment    1000 non-null   float64\n",
      " 25  Income / Total Commitment       1000 non-null   float64\n",
      " 26  Risk Score                      1000 non-null   int64  \n",
      " 27  Will Default                    1000 non-null   bool   \n",
      "dtypes: bool(13), float64(8), int64(5), object(2)\n",
      "memory usage: 137.7+ KB\n"
     ]
    }
   ],
   "source": [
    "synthetic_data.info()"
   ]
  },
  {
   "cell_type": "code",
   "execution_count": 79,
   "metadata": {},
   "outputs": [
    {
     "data": {
      "text/plain": [
       "Index(['wealth - salary', 'wealth - investment gain', 'wealth - rental income',\n",
       "       'wealth - business revenue', 'wealth - inheritance', 'wealth - others',\n",
       "       'fund - salary', 'fund - investment gain', 'fund - rental income',\n",
       "       'fund - business revenue', 'fund - inheritance', 'fund - others', 'Age',\n",
       "       'Occupation', 'Industry', 'speed_of_payment', 'Income',\n",
       "       'Adjusted Income', 'Annual Income', 'Adjusted Annual Income',\n",
       "       'Income Multiplier Based on Age', 'Wealth Indicator', 'Net Worth',\n",
       "       'Proposed Subscription Amount', 'Net Worth / Total Commitment',\n",
       "       'Income / Total Commitment', 'Risk Score', 'Will Default'],\n",
       "      dtype='object')"
      ]
     },
     "execution_count": 79,
     "metadata": {},
     "output_type": "execute_result"
    }
   ],
   "source": [
    "synthetic_data.columns"
   ]
  },
  {
   "cell_type": "code",
   "execution_count": 80,
   "metadata": {},
   "outputs": [],
   "source": [
    "synthetic_data['Risk Score'] = synthetic_data.apply(\n",
    "    lambda row: risk_score_formula(\n",
    "        row['Age'], \n",
    "        row['Occupation'], \n",
    "        row['Annual Income'], \n",
    "        row['Net Worth'], \n",
    "        row['wealth - salary'], \n",
    "        row['wealth - investment gain'], \n",
    "        row['wealth - rental income'],\n",
    "        row['wealth - business revenue'], \n",
    "        row['wealth - inheritance'], \n",
    "        row['wealth - others'],\n",
    "        row['speed_of_payment']\n",
    "    ),\n",
    "    axis=1\n",
    ")"
   ]
  },
  {
   "cell_type": "code",
   "execution_count": 81,
   "metadata": {},
   "outputs": [],
   "source": [
    "synthetic_data.to_csv('labelled_data.csv', index=False)"
   ]
  },
  {
   "cell_type": "code",
   "execution_count": 82,
   "metadata": {},
   "outputs": [
    {
     "data": {
      "text/plain": [
       "count    1000.000000\n",
       "mean      254.286000\n",
       "std        29.449473\n",
       "min       187.000000\n",
       "25%       235.000000\n",
       "50%       252.000000\n",
       "75%       271.250000\n",
       "max       442.000000\n",
       "Name: Risk Score, dtype: float64"
      ]
     },
     "execution_count": 82,
     "metadata": {},
     "output_type": "execute_result"
    }
   ],
   "source": [
    "synthetic_data['Risk Score'].describe()"
   ]
  },
  {
   "cell_type": "code",
   "execution_count": 83,
   "metadata": {},
   "outputs": [
    {
     "data": {
      "image/png": "[encoded data removed]",
      "text/plain": [
       "<Figure size 1000x600 with 1 Axes>"
      ]
     },
     "metadata": {},
     "output_type": "display_data"
    }
   ],
   "source": [
    "import matplotlib.pyplot as plt\n",
    "\n",
    "# Plotting the distribution of Risk Score\n",
    "plt.figure(figsize=(10, 6))\n",
    "plt.hist(synthetic_data['Risk Score'], bins=20, color='skyblue', edgecolor='black')\n",
    "plt.title('Distribution of Risk Score')\n",
    "plt.xlabel('Risk Score')\n",
    "plt.ylabel('Frequency')\n",
    "plt.grid(axis='y', alpha=0.75)\n",
    "plt.show()\n"
   ]
  },
  {
   "cell_type": "code",
   "execution_count": 84,
   "metadata": {},
   "outputs": [],
   "source": [
    "synthetic_data['Will Default'] = synthetic_data['Risk Score'].apply(lambda score: score > 160)"
   ]
  },
  {
   "cell_type": "code",
   "execution_count": 85,
   "metadata": {},
   "outputs": [
    {
     "data": {
      "text/plain": [
       "count     1000\n",
       "unique       1\n",
       "top       True\n",
       "freq      1000\n",
       "Name: Will Default, dtype: object"
      ]
     },
     "execution_count": 85,
     "metadata": {},
     "output_type": "execute_result"
    }
   ],
   "source": [
    "synthetic_data['Will Default'].describe()"
   ]
  },
  {
   "cell_type": "code",
   "execution_count": 86,
   "metadata": {},
   "outputs": [],
   "source": [
    "synthetic_data = synthetic_data.sort_values(by='Risk Score')\n"
   ]
  },
  {
   "cell_type": "code",
   "execution_count": 87,
   "metadata": {},
   "outputs": [
    {
     "data": {
      "text/html": [
       "<div>\n",
       "<style scoped>\n",
       "    .dataframe tbody tr th:only-of-type {\n",
       "        vertical-align: middle;\n",
       "    }\n",
       "\n",
       "    .dataframe tbody tr th {\n",
       "        vertical-align: top;\n",
       "    }\n",
       "\n",
       "    .dataframe thead th {\n",
       "        text-align: right;\n",
       "    }\n",
       "</style>\n",
       "<table border=\"1\" class=\"dataframe\">\n",
       "  <thead>\n",
       "    <tr style=\"text-align: right;\">\n",
       "      <th></th>\n",
       "      <th>wealth - salary</th>\n",
       "      <th>wealth - investment gain</th>\n",
       "      <th>wealth - rental income</th>\n",
       "      <th>wealth - business revenue</th>\n",
       "      <th>wealth - inheritance</th>\n",
       "      <th>wealth - others</th>\n",
       "      <th>fund - salary</th>\n",
       "      <th>fund - investment gain</th>\n",
       "      <th>fund - rental income</th>\n",
       "      <th>fund - business revenue</th>\n",
       "      <th>...</th>\n",
       "      <th>Annual Income</th>\n",
       "      <th>Adjusted Annual Income</th>\n",
       "      <th>Income Multiplier Based on Age</th>\n",
       "      <th>Wealth Indicator</th>\n",
       "      <th>Net Worth</th>\n",
       "      <th>Proposed Subscription Amount</th>\n",
       "      <th>Net Worth / Total Commitment</th>\n",
       "      <th>Income / Total Commitment</th>\n",
       "      <th>Risk Score</th>\n",
       "      <th>Will Default</th>\n",
       "    </tr>\n",
       "  </thead>\n",
       "  <tbody>\n",
       "    <tr>\n",
       "      <th>120</th>\n",
       "      <td>False</td>\n",
       "      <td>True</td>\n",
       "      <td>False</td>\n",
       "      <td>False</td>\n",
       "      <td>False</td>\n",
       "      <td>False</td>\n",
       "      <td>False</td>\n",
       "      <td>False</td>\n",
       "      <td>True</td>\n",
       "      <td>False</td>\n",
       "      <td>...</td>\n",
       "      <td>151128.00</td>\n",
       "      <td>151128.00</td>\n",
       "      <td>3.0</td>\n",
       "      <td>50000</td>\n",
       "      <td>503384.00</td>\n",
       "      <td>29000</td>\n",
       "      <td>17.358069</td>\n",
       "      <td>5.211310</td>\n",
       "      <td>187</td>\n",
       "      <td>True</td>\n",
       "    </tr>\n",
       "    <tr>\n",
       "      <th>647</th>\n",
       "      <td>False</td>\n",
       "      <td>True</td>\n",
       "      <td>False</td>\n",
       "      <td>False</td>\n",
       "      <td>False</td>\n",
       "      <td>False</td>\n",
       "      <td>False</td>\n",
       "      <td>False</td>\n",
       "      <td>False</td>\n",
       "      <td>True</td>\n",
       "      <td>...</td>\n",
       "      <td>130478.40</td>\n",
       "      <td>130478.40</td>\n",
       "      <td>3.5</td>\n",
       "      <td>50000</td>\n",
       "      <td>506674.40</td>\n",
       "      <td>20000</td>\n",
       "      <td>25.333720</td>\n",
       "      <td>6.523920</td>\n",
       "      <td>190</td>\n",
       "      <td>True</td>\n",
       "    </tr>\n",
       "    <tr>\n",
       "      <th>545</th>\n",
       "      <td>False</td>\n",
       "      <td>True</td>\n",
       "      <td>False</td>\n",
       "      <td>False</td>\n",
       "      <td>False</td>\n",
       "      <td>False</td>\n",
       "      <td>True</td>\n",
       "      <td>False</td>\n",
       "      <td>False</td>\n",
       "      <td>False</td>\n",
       "      <td>...</td>\n",
       "      <td>118635.00</td>\n",
       "      <td>118635.00</td>\n",
       "      <td>4.0</td>\n",
       "      <td>50000</td>\n",
       "      <td>524540.00</td>\n",
       "      <td>24000</td>\n",
       "      <td>21.855833</td>\n",
       "      <td>4.943125</td>\n",
       "      <td>190</td>\n",
       "      <td>True</td>\n",
       "    </tr>\n",
       "    <tr>\n",
       "      <th>578</th>\n",
       "      <td>False</td>\n",
       "      <td>True</td>\n",
       "      <td>False</td>\n",
       "      <td>False</td>\n",
       "      <td>False</td>\n",
       "      <td>False</td>\n",
       "      <td>True</td>\n",
       "      <td>False</td>\n",
       "      <td>False</td>\n",
       "      <td>False</td>\n",
       "      <td>...</td>\n",
       "      <td>100152.00</td>\n",
       "      <td>100152.00</td>\n",
       "      <td>3.5</td>\n",
       "      <td>50000</td>\n",
       "      <td>400532.00</td>\n",
       "      <td>16000</td>\n",
       "      <td>25.033250</td>\n",
       "      <td>6.259500</td>\n",
       "      <td>193</td>\n",
       "      <td>True</td>\n",
       "    </tr>\n",
       "    <tr>\n",
       "      <th>742</th>\n",
       "      <td>False</td>\n",
       "      <td>True</td>\n",
       "      <td>False</td>\n",
       "      <td>False</td>\n",
       "      <td>False</td>\n",
       "      <td>False</td>\n",
       "      <td>False</td>\n",
       "      <td>True</td>\n",
       "      <td>False</td>\n",
       "      <td>False</td>\n",
       "      <td>...</td>\n",
       "      <td>114917.40</td>\n",
       "      <td>114917.40</td>\n",
       "      <td>3.0</td>\n",
       "      <td>50000</td>\n",
       "      <td>394752.20</td>\n",
       "      <td>21000</td>\n",
       "      <td>18.797724</td>\n",
       "      <td>5.472257</td>\n",
       "      <td>195</td>\n",
       "      <td>True</td>\n",
       "    </tr>\n",
       "    <tr>\n",
       "      <th>114</th>\n",
       "      <td>False</td>\n",
       "      <td>True</td>\n",
       "      <td>False</td>\n",
       "      <td>False</td>\n",
       "      <td>False</td>\n",
       "      <td>False</td>\n",
       "      <td>True</td>\n",
       "      <td>False</td>\n",
       "      <td>False</td>\n",
       "      <td>False</td>\n",
       "      <td>...</td>\n",
       "      <td>120566.04</td>\n",
       "      <td>120566.04</td>\n",
       "      <td>3.0</td>\n",
       "      <td>50000</td>\n",
       "      <td>411698.12</td>\n",
       "      <td>21000</td>\n",
       "      <td>19.604672</td>\n",
       "      <td>5.741240</td>\n",
       "      <td>195</td>\n",
       "      <td>True</td>\n",
       "    </tr>\n",
       "    <tr>\n",
       "      <th>471</th>\n",
       "      <td>False</td>\n",
       "      <td>False</td>\n",
       "      <td>True</td>\n",
       "      <td>False</td>\n",
       "      <td>False</td>\n",
       "      <td>False</td>\n",
       "      <td>False</td>\n",
       "      <td>False</td>\n",
       "      <td>False</td>\n",
       "      <td>True</td>\n",
       "      <td>...</td>\n",
       "      <td>85140.72</td>\n",
       "      <td>85140.72</td>\n",
       "      <td>4.0</td>\n",
       "      <td>50000</td>\n",
       "      <td>390562.88</td>\n",
       "      <td>17000</td>\n",
       "      <td>22.974287</td>\n",
       "      <td>5.008278</td>\n",
       "      <td>196</td>\n",
       "      <td>True</td>\n",
       "    </tr>\n",
       "    <tr>\n",
       "      <th>74</th>\n",
       "      <td>False</td>\n",
       "      <td>True</td>\n",
       "      <td>False</td>\n",
       "      <td>False</td>\n",
       "      <td>False</td>\n",
       "      <td>False</td>\n",
       "      <td>False</td>\n",
       "      <td>False</td>\n",
       "      <td>False</td>\n",
       "      <td>True</td>\n",
       "      <td>...</td>\n",
       "      <td>77464.20</td>\n",
       "      <td>77464.20</td>\n",
       "      <td>4.0</td>\n",
       "      <td>50000</td>\n",
       "      <td>359856.80</td>\n",
       "      <td>18000</td>\n",
       "      <td>19.992044</td>\n",
       "      <td>4.303567</td>\n",
       "      <td>196</td>\n",
       "      <td>True</td>\n",
       "    </tr>\n",
       "    <tr>\n",
       "      <th>34</th>\n",
       "      <td>False</td>\n",
       "      <td>False</td>\n",
       "      <td>True</td>\n",
       "      <td>False</td>\n",
       "      <td>False</td>\n",
       "      <td>False</td>\n",
       "      <td>True</td>\n",
       "      <td>False</td>\n",
       "      <td>False</td>\n",
       "      <td>False</td>\n",
       "      <td>...</td>\n",
       "      <td>139432.80</td>\n",
       "      <td>139432.80</td>\n",
       "      <td>3.5</td>\n",
       "      <td>50000</td>\n",
       "      <td>538014.80</td>\n",
       "      <td>22000</td>\n",
       "      <td>24.455218</td>\n",
       "      <td>6.337855</td>\n",
       "      <td>197</td>\n",
       "      <td>True</td>\n",
       "    </tr>\n",
       "    <tr>\n",
       "      <th>63</th>\n",
       "      <td>False</td>\n",
       "      <td>False</td>\n",
       "      <td>True</td>\n",
       "      <td>False</td>\n",
       "      <td>False</td>\n",
       "      <td>False</td>\n",
       "      <td>True</td>\n",
       "      <td>False</td>\n",
       "      <td>False</td>\n",
       "      <td>False</td>\n",
       "      <td>...</td>\n",
       "      <td>108380.16</td>\n",
       "      <td>0.00</td>\n",
       "      <td>2.0</td>\n",
       "      <td>50000</td>\n",
       "      <td>266760.32</td>\n",
       "      <td>7000</td>\n",
       "      <td>38.108617</td>\n",
       "      <td>15.482880</td>\n",
       "      <td>198</td>\n",
       "      <td>True</td>\n",
       "    </tr>\n",
       "  </tbody>\n",
       "</table>\n",
       "<p>10 rows × 28 columns</p>\n",
       "</div>"
      ],
      "text/plain": [
       "     wealth - salary  wealth - investment gain  wealth - rental income  \\\n",
       "120            False                      True                   False   \n",
       "647            False                      True                   False   \n",
       "545            False                      True                   False   \n",
       "578            False                      True                   False   \n",
       "742            False                      True                   False   \n",
       "114            False                      True                   False   \n",
       "471            False                     False                    True   \n",
       "74             False                      True                   False   \n",
       "34             False                     False                    True   \n",
       "63             False                     False                    True   \n",
       "\n",
       "     wealth - business revenue  wealth - inheritance  wealth - others  \\\n",
       "120                      False                 False            False   \n",
       "647                      False                 False            False   \n",
       "545                      False                 False            False   \n",
       "578                      False                 False            False   \n",
       "742                      False                 False            False   \n",
       "114                      False                 False            False   \n",
       "471                      False                 False            False   \n",
       "74                       False                 False            False   \n",
       "34                       False                 False            False   \n",
       "63                       False                 False            False   \n",
       "\n",
       "     fund - salary  fund - investment gain  fund - rental income  \\\n",
       "120          False                   False                  True   \n",
       "647          False                   False                 False   \n",
       "545           True                   False                 False   \n",
       "578           True                   False                 False   \n",
       "742          False                    True                 False   \n",
       "114           True                   False                 False   \n",
       "471          False                   False                 False   \n",
       "74           False                   False                 False   \n",
       "34            True                   False                 False   \n",
       "63            True                   False                 False   \n",
       "\n",
       "     fund - business revenue  ...  Annual Income  Adjusted Annual Income  \\\n",
       "120                    False  ...      151128.00               151128.00   \n",
       "647                     True  ...      130478.40               130478.40   \n",
       "545                    False  ...      118635.00               118635.00   \n",
       "578                    False  ...      100152.00               100152.00   \n",
       "742                    False  ...      114917.40               114917.40   \n",
       "114                    False  ...      120566.04               120566.04   \n",
       "471                     True  ...       85140.72                85140.72   \n",
       "74                      True  ...       77464.20                77464.20   \n",
       "34                     False  ...      139432.80               139432.80   \n",
       "63                     False  ...      108380.16                    0.00   \n",
       "\n",
       "     Income Multiplier Based on Age Wealth Indicator  Net Worth  \\\n",
       "120                             3.0            50000  503384.00   \n",
       "647                             3.5            50000  506674.40   \n",
       "545                             4.0            50000  524540.00   \n",
       "578                             3.5            50000  400532.00   \n",
       "742                             3.0            50000  394752.20   \n",
       "114                             3.0            50000  411698.12   \n",
       "471                             4.0            50000  390562.88   \n",
       "74                              4.0            50000  359856.80   \n",
       "34                              3.5            50000  538014.80   \n",
       "63                              2.0            50000  266760.32   \n",
       "\n",
       "     Proposed Subscription Amount  Net Worth / Total Commitment  \\\n",
       "120                         29000                     17.358069   \n",
       "647                         20000                     25.333720   \n",
       "545                         24000                     21.855833   \n",
       "578                         16000                     25.033250   \n",
       "742                         21000                     18.797724   \n",
       "114                         21000                     19.604672   \n",
       "471                         17000                     22.974287   \n",
       "74                          18000                     19.992044   \n",
       "34                          22000                     24.455218   \n",
       "63                           7000                     38.108617   \n",
       "\n",
       "     Income / Total Commitment  Risk Score  Will Default  \n",
       "120                   5.211310         187          True  \n",
       "647                   6.523920         190          True  \n",
       "545                   4.943125         190          True  \n",
       "578                   6.259500         193          True  \n",
       "742                   5.472257         195          True  \n",
       "114                   5.741240         195          True  \n",
       "471                   5.008278         196          True  \n",
       "74                    4.303567         196          True  \n",
       "34                    6.337855         197          True  \n",
       "63                   15.482880         198          True  \n",
       "\n",
       "[10 rows x 28 columns]"
      ]
     },
     "execution_count": 87,
     "metadata": {},
     "output_type": "execute_result"
    }
   ],
   "source": [
    "synthetic_data.head(10)"
   ]
  },
  {
   "cell_type": "code",
   "execution_count": 88,
   "metadata": {},
   "outputs": [],
   "source": [
    "synthetic_data.to_csv('sorted_labelled_data.csv', index=False)"
   ]
  },
  {
   "cell_type": "code",
   "execution_count": null,
   "metadata": {},
   "outputs": [],
   "source": []
  }
 ],
 "metadata": {
  "kernelspec": {
   "display_name": "env",
   "language": "python",
   "name": "python3"
  },
  "language_info": {
   "codemirror_mode": {
    "name": "ipython",
    "version": 3
   },
   "file_extension": ".py",
   "mimetype": "text/x-python",
   "name": "python",
   "nbconvert_exporter": "python",
   "pygments_lexer": "ipython3",
   "version": "3.12.2"
  }
 },
 "nbformat": 4,
 "nbformat_minor": 2
}
