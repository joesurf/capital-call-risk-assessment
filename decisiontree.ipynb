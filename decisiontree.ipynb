{
 "cells": [
  {
   "cell_type": "code",
   "execution_count": 2,
   "metadata": {},
   "outputs": [],
   "source": [
    "import pandas as pd\n",
    "from sklearn.tree import DecisionTreeClassifier\n",
    "from sklearn.model_selection import train_test_split\n",
    "from sklearn import tree\n",
    "import matplotlib.pyplot as plt"
   ]
  },
  {
   "cell_type": "code",
   "execution_count": null,
   "metadata": {},
   "outputs": [],
   "source": [
    "# Sample data: Investors' age, income, net worth, occupation, and risk level (target)\n",
    "data = {\n",
    "    'Age': [45, 34, 65, 50, 28, 37, 60, 55],\n",
    "    'Income': [85000, 65000, 150000, 120000, 40000, 70000, 110000, 130000],\n",
    "    'Net_Worth': [800000, 500000, 2500000, 1800000, 200000, 300000, 1200000, 1500000],\n",
    "    'Occupation': ['Stable', 'Unstable', 'Stable', 'Unstable', 'Stable', 'Stable', 'Unstable', 'Stable'],\n",
    "    'Risk_Level': ['Medium', 'High', 'Low', 'Medium', 'High', 'Medium', 'Low', 'Low']\n",
    "}\n",
    "\n",
    "# Convert data into a DataFrame\n",
    "df = pd.DataFrame(data)\n",
    "\n",
    "# Convert categorical variable 'Occupation' to numerical\n",
    "df['Occupation'] = df['Occupation'].map({'Stable': 1, 'Unstable': 0})\n",
    "\n",
    "# Map target labels to numerical values (for classification)\n",
    "df['Risk_Level'] = df['Risk_Level'].map({'Low': 0, 'Medium': 1, 'High': 2})\n",
    "\n",
    "# Features and target\n",
    "X = df[['Age', 'Income', 'Net_Worth', 'Occupation']]\n",
    "y = df['Risk_Level']\n"
   ]
  },
  {
   "cell_type": "code",
   "execution_count": null,
   "metadata": {},
   "outputs": [],
   "source": [
    "X_train, X_test, y_train, y_test = train_test_split(X, y, test_size=0.3, random_state=42)"
   ]
  },
  {
   "cell_type": "code",
   "execution_count": null,
   "metadata": {},
   "outputs": [],
   "source": [
    "# Initialize DecisionTreeClassifier\n",
    "clf = DecisionTreeClassifier()\n",
    "\n",
    "# Train the model\n",
    "clf.fit(X_train, y_train)"
   ]
  },
  {
   "cell_type": "code",
   "execution_count": null,
   "metadata": {},
   "outputs": [],
   "source": []
  }
 ],
 "metadata": {
  "kernelspec": {
   "display_name": "env",
   "language": "python",
   "name": "python3"
  },
  "language_info": {
   "codemirror_mode": {
    "name": "ipython",
    "version": 3
   },
   "file_extension": ".py",
   "mimetype": "text/x-python",
   "name": "python",
   "nbconvert_exporter": "python",
   "pygments_lexer": "ipython3",
   "version": "3.12.2"
  }
 },
 "nbformat": 4,
 "nbformat_minor": 2
}
