{
 "cells": [
  {
   "cell_type": "code",
   "execution_count": 45,
   "metadata": {},
   "outputs": [],
   "source": [
    "import pandas as pd\n",
    "import numpy as np\n",
    "import matplotlib.pyplot as plt\n",
    "import seaborn as sns\n",
    "\n",
    "import scipy.stats as stats"
   ]
  },
  {
   "cell_type": "code",
   "execution_count": 32,
   "metadata": {},
   "outputs": [],
   "source": [
    "# Load the files\n",
    "monthly_income_by_occupation_grp = pd.read_excel(\"monthly_income_by_occupation_grp.xlsx\")\n",
    "synthetic_data = pd.read_csv(\"../synthetic_distribution.csv\")\n",
    "percentage_chg_income_by_age_grp = pd.read_excel(\"percentage_chg_income_by_age_grp.xlsx\")"
   ]
  },
  {
   "cell_type": "code",
   "execution_count": 52,
   "metadata": {},
   "outputs": [],
   "source": [
    "# For each occupation, generate synthetic monthly income based on the log-normal or normal distribution using the provided percentiles.\n",
    "# Then apply the age adjustment factor to the generated monthly income.\n",
    "\n",
    "# Extract SSOC codes from the synthetic data\n",
    "synthetic_data['SSOC (2 digits)'] = synthetic_data['Occupation'].apply(\n",
    "    lambda x: 0 if x == 'X1 - X5 Workers Not Elsewhere Classified' \n",
    "                else int(x.split()[0])\n",
    "    )\n",
    "\n",
    "# Map the age-based adjustment from percentage_chg_income_by_age_grp using the Age in synthetic_data\n",
    "# Create bins to map age groups\n",
    "age_bins = [0, 19, 24, 29, 34, 39, 44, 49, 54, 59, 100]\n",
    "age_grp_labels = ['15 - 19', '20 - 24', '25 - 29', '30 - 34', '35 - 39', '40 - 44', '45 - 49', '50 - 54', '55 - 59', '60 & Over']\n",
    "synthetic_data['Age Group'] = pd.cut(synthetic_data['Age'], bins=age_bins, labels=age_grp_labels, right=True)\n",
    "\n",
    "# Merge synthetic_data with monthly_income_by_occupation_grp on the SSOC (2 digits) to get the income percentiles\n",
    "merged_data = pd.merge(synthetic_data, monthly_income_by_occupation_grp, on='SSOC (2 digits)', how='left')\n",
    "\n",
    "# Merge synthetic data with percentage_chg_income_by_age_grp on the Age Group to get age-based adjustment\n",
    "merged_data = pd.merge(merged_data, percentage_chg_income_by_age_grp[['Age Group', 'Income Adjustment']], on='Age Group', how='left')\n",
    "\n",
    "# Function to generate random income based on log-normal distribution (using 25th, median, and 75th percentile)\n",
    "def generate_income(row):\n",
    "    q1 = row['Average of Gross - 25th Percentile ($)']\n",
    "    q2 = row['Average of Gross - Median  ($)']\n",
    "    q3 = row['Average of Gross - 75th Percentile ($)']\n",
    "\n",
    "    # If no income data available, return NaN\n",
    "    if pd.isna(q1) or pd.isna(q2) or pd.isna(q3):  \n",
    "        return None\n",
    "    sigma = (np.log(q3) - np.log(q1)) / 2\n",
    "    mu = np.log(q2)\n",
    "\n",
    "    # Create a truncated normal distribution that corresponds to the log-normal distribution\n",
    "    min_income = 20000 # Set minimum monthly income threshold\n",
    "    min_log_income = np.log(min_income)\n",
    "    # Calculate the a and b parameters for truncation\n",
    "    a = (min_log_income - mu) / sigma  # lower bound\n",
    "    b = np.inf  # no upper bound\n",
    "    np.random.seed(42)  # For reproducibility\n",
    "    # Generate truncated normal samples\n",
    "    truncated_normal_sample = stats.truncnorm.rvs(a=a, b=b, loc=mu, scale=sigma, size=1)\n",
    "    \n",
    "    # Transform the normal samples back to the log-normal scale\n",
    "    return np.exp(truncated_normal_sample)\n",
    "\n",
    "# Apply the generate_income function\n",
    "merged_data['Monthly Income'] = merged_data.apply(generate_income, axis=1)\n",
    "\n",
    "# Adjust income based on age adjustment factor\n",
    "merged_data['Age Adjusted Monthly Income'] = merged_data['Monthly Income'] * merged_data['Income Adjustment']\n",
    "\n",
    "# Convert monthly income to annual income by multiplying by 12\n",
    "merged_data['Age Adjusted Annual Income'] = merged_data['Age Adjusted Monthly Income'] * 12\n"
   ]
  },
  {
   "cell_type": "code",
   "execution_count": null,
   "metadata": {},
   "outputs": [],
   "source": [
    "merged_data[['Age', 'Occupation', 'Average of Gross - 75th Percentile ($)', 'Income Adjustment', 'Monthly Income', 'Age Adjusted Monthly Income', 'Age Adjusted Annual Income']]\n"
   ]
  }
 ],
 "metadata": {
  "kernelspec": {
   "display_name": "Python 3",
   "language": "python",
   "name": "python3"
  },
  "language_info": {
   "codemirror_mode": {
    "name": "ipython",
    "version": 3
   },
   "file_extension": ".py",
   "mimetype": "text/x-python",
   "name": "python",
   "nbconvert_exporter": "python",
   "pygments_lexer": "ipython3",
   "version": "3.9.6"
  },
  "orig_nbformat": 4
 },
 "nbformat": 4,
 "nbformat_minor": 2
}
