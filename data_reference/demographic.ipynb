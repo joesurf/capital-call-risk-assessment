{
  "nbformat": 4,
  "nbformat_minor": 0,
  "metadata": {
    "colab": {
      "provenance": []
    },
    "kernelspec": {
      "name": "python3",
      "display_name": "Python 3"
    },
    "language_info": {
      "name": "python"
    }
  },
  "cells": [
    {
      "cell_type": "code",
      "execution_count": null,
      "metadata": {
        "colab": {
          "base_uri": "https://localhost:8080/"
        },
        "id": "_Ukb0gLgGPez",
        "outputId": "c3b3fc63-722a-4cef-888e-a793b8f8cbe8"
      },
      "outputs": [
        {
          "output_type": "stream",
          "name": "stdout",
          "text": [
            "   HasLPA  CriticalIllness  NextOfKin  TraveledToHighRiskCountry\n",
            "0       0                0          1                          0\n",
            "1       1                0          1                          0\n",
            "2       0                1          1                          0\n",
            "3       0                0          1                          0\n",
            "4       0                1          1                          0\n"
          ]
        }
      ],
      "source": [
        "# HasLPA: Lasting power of attorney, legal document which allows a person appoint others to make decisions and act on their behalf\n",
        "# CriticalIllness\n",
        "# NextOfKin: closest relatives -> (1) Spouse, children (2) Parents (3) Siblings (4) Grandparents (5) Aunts and Uncles.\n",
        "# TraveledToHighRiskCountry\n",
        "\n",
        "import pandas as pd\n",
        "import numpy as np\n",
        "\n",
        "# Set random seed for reproducibility\n",
        "np.random.seed(42)\n",
        "\n",
        "# Define population size\n",
        "n = 1000  # Number of synthetic individuals\n",
        "\n",
        "# Define distributions\n",
        "has_lpa = np.random.choice([0, 1], size=n, p=[0.81, 0.19])  # 19% have LPA\n",
        "critical_illness = np.random.choice([0, 1], size=n, p=[0.80, 0.20])  # 20% have critical illness\n",
        "next_of_kin = np.random.choice([0, 1], size=n, p=[0.01, 0.99])  # 99% have next of kin\n",
        "traveled_high_risk = np.random.choice([0, 1], size=n, p=[0.90, 0.10])  # 10% have traveled to high-risk countries\n",
        "\n",
        "# Create DataFrame\n",
        "synthetic_data = pd.DataFrame({\n",
        "    'HasLPA': has_lpa,\n",
        "    'CriticalIllness': critical_illness,\n",
        "    'NextOfKin': next_of_kin,\n",
        "    'TraveledToHighRiskCountry': traveled_high_risk\n",
        "})\n",
        "\n",
        "# Display the first few rows of the synthetic dataset\n",
        "print(synthetic_data.head())\n",
        "\n",
        "# Save to CSV\n",
        "# synthetic_data.to_csv('synthetic_data_hnwi.csv', index=False)"
      ]
    }
  ]
}