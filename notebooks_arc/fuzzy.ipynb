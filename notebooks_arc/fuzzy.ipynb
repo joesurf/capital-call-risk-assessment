{
 "cells": [
  {
   "cell_type": "code",
   "execution_count": 124,
   "metadata": {},
   "outputs": [],
   "source": [
    "import numpy as np\n",
    "import pandas as pd\n",
    "import skfuzzy as fuzz\n",
    "from skfuzzy import control as ctrl"
   ]
  },
  {
   "cell_type": "code",
   "execution_count": 125,
   "metadata": {},
   "outputs": [
    {
     "data": {
      "text/html": [
       "<div>\n",
       "<style scoped>\n",
       "    .dataframe tbody tr th:only-of-type {\n",
       "        vertical-align: middle;\n",
       "    }\n",
       "\n",
       "    .dataframe tbody tr th {\n",
       "        vertical-align: top;\n",
       "    }\n",
       "\n",
       "    .dataframe thead th {\n",
       "        text-align: right;\n",
       "    }\n",
       "</style>\n",
       "<table border=\"1\" class=\"dataframe\">\n",
       "  <thead>\n",
       "    <tr style=\"text-align: right;\">\n",
       "      <th></th>\n",
       "      <th>wealth - salary</th>\n",
       "      <th>wealth - investment gain</th>\n",
       "      <th>wealth - rental income</th>\n",
       "      <th>wealth - business revenue</th>\n",
       "      <th>wealth - inheritance</th>\n",
       "      <th>wealth - others</th>\n",
       "      <th>fund - salary</th>\n",
       "      <th>fund - investment gain</th>\n",
       "      <th>fund - rental income</th>\n",
       "      <th>fund - business revenue</th>\n",
       "      <th>...</th>\n",
       "      <th>Annual Income</th>\n",
       "      <th>Adjusted Annual Income</th>\n",
       "      <th>Income Multiplier Based on Age</th>\n",
       "      <th>Wealth Indicator</th>\n",
       "      <th>Net Worth</th>\n",
       "      <th>Proposed Subscription Amount</th>\n",
       "      <th>Net Worth / Total Commitment</th>\n",
       "      <th>Income / Total Commitment</th>\n",
       "      <th>Risk Score</th>\n",
       "      <th>Will Default</th>\n",
       "    </tr>\n",
       "  </thead>\n",
       "  <tbody>\n",
       "    <tr>\n",
       "      <th>0</th>\n",
       "      <td>False</td>\n",
       "      <td>True</td>\n",
       "      <td>False</td>\n",
       "      <td>False</td>\n",
       "      <td>False</td>\n",
       "      <td>False</td>\n",
       "      <td>False</td>\n",
       "      <td>False</td>\n",
       "      <td>True</td>\n",
       "      <td>False</td>\n",
       "      <td>...</td>\n",
       "      <td>151128.00</td>\n",
       "      <td>151128.00</td>\n",
       "      <td>3.0</td>\n",
       "      <td>50000</td>\n",
       "      <td>503384.00</td>\n",
       "      <td>29000</td>\n",
       "      <td>17.358069</td>\n",
       "      <td>5.211310</td>\n",
       "      <td>187</td>\n",
       "      <td>False</td>\n",
       "    </tr>\n",
       "    <tr>\n",
       "      <th>1</th>\n",
       "      <td>False</td>\n",
       "      <td>True</td>\n",
       "      <td>True</td>\n",
       "      <td>False</td>\n",
       "      <td>False</td>\n",
       "      <td>False</td>\n",
       "      <td>True</td>\n",
       "      <td>False</td>\n",
       "      <td>False</td>\n",
       "      <td>False</td>\n",
       "      <td>...</td>\n",
       "      <td>119520.00</td>\n",
       "      <td>119520.00</td>\n",
       "      <td>4.0</td>\n",
       "      <td>100000</td>\n",
       "      <td>578080.00</td>\n",
       "      <td>29000</td>\n",
       "      <td>19.933793</td>\n",
       "      <td>4.121379</td>\n",
       "      <td>232</td>\n",
       "      <td>False</td>\n",
       "    </tr>\n",
       "    <tr>\n",
       "      <th>2</th>\n",
       "      <td>True</td>\n",
       "      <td>True</td>\n",
       "      <td>False</td>\n",
       "      <td>False</td>\n",
       "      <td>False</td>\n",
       "      <td>False</td>\n",
       "      <td>False</td>\n",
       "      <td>False</td>\n",
       "      <td>False</td>\n",
       "      <td>False</td>\n",
       "      <td>...</td>\n",
       "      <td>116431.92</td>\n",
       "      <td>116431.92</td>\n",
       "      <td>4.0</td>\n",
       "      <td>50000</td>\n",
       "      <td>515727.68</td>\n",
       "      <td>25000</td>\n",
       "      <td>20.629107</td>\n",
       "      <td>4.657277</td>\n",
       "      <td>243</td>\n",
       "      <td>False</td>\n",
       "    </tr>\n",
       "    <tr>\n",
       "      <th>3</th>\n",
       "      <td>False</td>\n",
       "      <td>True</td>\n",
       "      <td>False</td>\n",
       "      <td>False</td>\n",
       "      <td>False</td>\n",
       "      <td>False</td>\n",
       "      <td>False</td>\n",
       "      <td>False</td>\n",
       "      <td>False</td>\n",
       "      <td>True</td>\n",
       "      <td>...</td>\n",
       "      <td>130478.40</td>\n",
       "      <td>130478.40</td>\n",
       "      <td>3.5</td>\n",
       "      <td>50000</td>\n",
       "      <td>506674.40</td>\n",
       "      <td>20000</td>\n",
       "      <td>25.333720</td>\n",
       "      <td>6.523920</td>\n",
       "      <td>190</td>\n",
       "      <td>False</td>\n",
       "    </tr>\n",
       "    <tr>\n",
       "      <th>4</th>\n",
       "      <td>False</td>\n",
       "      <td>False</td>\n",
       "      <td>True</td>\n",
       "      <td>False</td>\n",
       "      <td>False</td>\n",
       "      <td>False</td>\n",
       "      <td>True</td>\n",
       "      <td>False</td>\n",
       "      <td>False</td>\n",
       "      <td>False</td>\n",
       "      <td>...</td>\n",
       "      <td>139432.80</td>\n",
       "      <td>139432.80</td>\n",
       "      <td>3.5</td>\n",
       "      <td>50000</td>\n",
       "      <td>538014.80</td>\n",
       "      <td>22000</td>\n",
       "      <td>24.455218</td>\n",
       "      <td>6.337855</td>\n",
       "      <td>197</td>\n",
       "      <td>False</td>\n",
       "    </tr>\n",
       "  </tbody>\n",
       "</table>\n",
       "<p>5 rows × 28 columns</p>\n",
       "</div>"
      ],
      "text/plain": [
       "   wealth - salary  wealth - investment gain  wealth - rental income  \\\n",
       "0            False                      True                   False   \n",
       "1            False                      True                    True   \n",
       "2             True                      True                   False   \n",
       "3            False                      True                   False   \n",
       "4            False                     False                    True   \n",
       "\n",
       "   wealth - business revenue  wealth - inheritance  wealth - others  \\\n",
       "0                      False                 False            False   \n",
       "1                      False                 False            False   \n",
       "2                      False                 False            False   \n",
       "3                      False                 False            False   \n",
       "4                      False                 False            False   \n",
       "\n",
       "   fund - salary  fund - investment gain  fund - rental income  \\\n",
       "0          False                   False                  True   \n",
       "1           True                   False                 False   \n",
       "2          False                   False                 False   \n",
       "3          False                   False                 False   \n",
       "4           True                   False                 False   \n",
       "\n",
       "   fund - business revenue  ...  Annual Income  Adjusted Annual Income  \\\n",
       "0                    False  ...      151128.00               151128.00   \n",
       "1                    False  ...      119520.00               119520.00   \n",
       "2                    False  ...      116431.92               116431.92   \n",
       "3                     True  ...      130478.40               130478.40   \n",
       "4                    False  ...      139432.80               139432.80   \n",
       "\n",
       "   Income Multiplier Based on Age Wealth Indicator  Net Worth  \\\n",
       "0                             3.0            50000  503384.00   \n",
       "1                             4.0           100000  578080.00   \n",
       "2                             4.0            50000  515727.68   \n",
       "3                             3.5            50000  506674.40   \n",
       "4                             3.5            50000  538014.80   \n",
       "\n",
       "   Proposed Subscription Amount  Net Worth / Total Commitment  \\\n",
       "0                         29000                     17.358069   \n",
       "1                         29000                     19.933793   \n",
       "2                         25000                     20.629107   \n",
       "3                         20000                     25.333720   \n",
       "4                         22000                     24.455218   \n",
       "\n",
       "   Income / Total Commitment  Risk Score  Will Default  \n",
       "0                   5.211310         187         False  \n",
       "1                   4.121379         232         False  \n",
       "2                   4.657277         243         False  \n",
       "3                   6.523920         190         False  \n",
       "4                   6.337855         197         False  \n",
       "\n",
       "[5 rows x 28 columns]"
      ]
     },
     "execution_count": 125,
     "metadata": {},
     "output_type": "execute_result"
    }
   ],
   "source": [
    "synthetic_data = pd.read_csv('labelled_data.csv')\n",
    "synthetic_data.head()"
   ]
  },
  {
   "cell_type": "code",
   "execution_count": 126,
   "metadata": {},
   "outputs": [
    {
     "name": "stdout",
     "output_type": "stream",
     "text": [
      "<class 'pandas.core.frame.DataFrame'>\n",
      "RangeIndex: 1000 entries, 0 to 999\n",
      "Data columns (total 28 columns):\n",
      " #   Column                          Non-Null Count  Dtype  \n",
      "---  ------                          --------------  -----  \n",
      " 0   wealth - salary                 1000 non-null   bool   \n",
      " 1   wealth - investment gain        1000 non-null   bool   \n",
      " 2   wealth - rental income          1000 non-null   bool   \n",
      " 3   wealth - business revenue       1000 non-null   bool   \n",
      " 4   wealth - inheritance            1000 non-null   bool   \n",
      " 5   wealth - others                 1000 non-null   bool   \n",
      " 6   fund - salary                   1000 non-null   bool   \n",
      " 7   fund - investment gain          1000 non-null   bool   \n",
      " 8   fund - rental income            1000 non-null   bool   \n",
      " 9   fund - business revenue         1000 non-null   bool   \n",
      " 10  fund - inheritance              1000 non-null   bool   \n",
      " 11  fund - others                   1000 non-null   bool   \n",
      " 12  Age                             1000 non-null   int64  \n",
      " 13  Occupation                      1000 non-null   object \n",
      " 14  Industry                        1000 non-null   object \n",
      " 15  speed_of_payment                1000 non-null   int64  \n",
      " 16  Income                          1000 non-null   float64\n",
      " 17  Adjusted Income                 1000 non-null   float64\n",
      " 18  Annual Income                   1000 non-null   float64\n",
      " 19  Adjusted Annual Income          1000 non-null   float64\n",
      " 20  Income Multiplier Based on Age  1000 non-null   float64\n",
      " 21  Wealth Indicator                1000 non-null   int64  \n",
      " 22  Net Worth                       1000 non-null   float64\n",
      " 23  Proposed Subscription Amount    1000 non-null   int64  \n",
      " 24  Net Worth / Total Commitment    1000 non-null   float64\n",
      " 25  Income / Total Commitment       1000 non-null   float64\n",
      " 26  Risk Score                      1000 non-null   int64  \n",
      " 27  Will Default                    1000 non-null   bool   \n",
      "dtypes: bool(13), float64(8), int64(5), object(2)\n",
      "memory usage: 130.0+ KB\n"
     ]
    }
   ],
   "source": [
    "synthetic_data.info()"
   ]
  },
  {
   "cell_type": "code",
   "execution_count": 127,
   "metadata": {},
   "outputs": [],
   "source": [
    "age = ctrl.Antecedent(np.arange(18, 81, 1), 'age')\n",
    "income = ctrl.Antecedent(np.arange(0, 1000001, 1000), 'income')  # Income from 0 to 1M\n",
    "net_worth = ctrl.Antecedent(np.arange(0, 10000001, 10000), 'net_worth')  # Net worth from 0 to 10M\n",
    "risk = ctrl.Consequent(np.arange(0, 101, 1), 'risk')"
   ]
  },
  {
   "cell_type": "code",
   "execution_count": 128,
   "metadata": {},
   "outputs": [],
   "source": [
    "age['young'] = fuzz.trimf(age.universe, [18, 18, 35])\n",
    "age['middle_aged'] = fuzz.trimf(age.universe, [30, 45, 60])\n",
    "age['old'] = fuzz.trimf(age.universe, [55, 80, 80])\n",
    "age['missing'] = fuzz.trimf(age.universe, [0, 0, 0])  # For missing values\n",
    "\n",
    "income['low'] = fuzz.trimf(income.universe, [0, 0, 200000])\n",
    "income['medium'] = fuzz.trimf(income.universe, [100000, 500000, 900000])\n",
    "income['high'] = fuzz.trimf(income.universe, [800000, 1000000, 1000000])\n",
    "income['missing'] = fuzz.trimf(income.universe, [0, 0, 0])  # Missing data\n",
    "\n",
    "net_worth['low'] = fuzz.trimf(net_worth.universe, [0, 0, 2000000])\n",
    "net_worth['medium'] = fuzz.trimf(net_worth.universe, [1000000, 5000000, 8000000])\n",
    "net_worth['high'] = fuzz.trimf(net_worth.universe, [7000000, 10000000, 10000000])\n",
    "net_worth['missing'] = fuzz.trimf(net_worth.universe, [0, 0, 0])  # Missing data\n"
   ]
  },
  {
   "cell_type": "code",
   "execution_count": 129,
   "metadata": {},
   "outputs": [],
   "source": [
    "risk['low'] = fuzz.trimf(risk.universe, [0, 0, 50])\n",
    "risk['moderate'] = fuzz.trimf(risk.universe, [25, 50, 75])\n",
    "risk['high'] = fuzz.trimf(risk.universe, [50, 100, 100])"
   ]
  },
  {
   "cell_type": "code",
   "execution_count": 130,
   "metadata": {},
   "outputs": [],
   "source": [
    "rule1 = ctrl.Rule(age['young'] & income['low'] & net_worth['low'], risk['high'])\n",
    "rule2 = ctrl.Rule(age['middle_aged'] & income['medium'] & net_worth['medium'], risk['moderate'])\n",
    "rule3 = ctrl.Rule(age['old'] & income['high'] & net_worth['high'], risk['low'])\n",
    "rule4 = ctrl.Rule(age['old'] & income['low'], risk['high'])"
   ]
  },
  {
   "cell_type": "code",
   "execution_count": 131,
   "metadata": {},
   "outputs": [],
   "source": [
    "rule_missing_income = ctrl.Rule(income['missing'], risk['moderate'])\n",
    "rule_missing_net_worth = ctrl.Rule(net_worth['missing'], risk['moderate'])\n",
    "rule_missing_age = ctrl.Rule(age['missing'], risk['moderate'])"
   ]
  },
  {
   "cell_type": "markdown",
   "metadata": {},
   "source": []
  },
  {
   "cell_type": "code",
   "execution_count": 132,
   "metadata": {},
   "outputs": [],
   "source": [
    "risk_ctrl = ctrl.ControlSystem([rule1, rule2, rule3, rule4, rule_missing_income, rule_missing_net_worth, rule_missing_age])\n",
    "risk_simulation = ctrl.ControlSystemSimulation(risk_ctrl)"
   ]
  },
  {
   "cell_type": "code",
   "execution_count": 147,
   "metadata": {},
   "outputs": [],
   "source": [
    "def calculate_risk(row):\n",
    "    try:\n",
    "        # If data is missing, set the fuzzy system to the \"missing\" category\n",
    "        if np.isnan(row['Age']):\n",
    "            risk_simulation.input['age'] = 0  # Assign the \"missing\" membership function\n",
    "        else:\n",
    "            risk_simulation.input['age'] = row['Age']\n",
    "        \n",
    "        if np.isnan(row['Annual Income']):\n",
    "            risk_simulation.input['income'] = 0  # Assign the \"missing\" membership function\n",
    "        else:\n",
    "            risk_simulation.input['income'] = row['Annual Income']\n",
    "        \n",
    "        if np.isnan(row['Net Worth']):\n",
    "            risk_simulation.input['net_worth'] = 0  # Assign the \"missing\" membership function\n",
    "        else:\n",
    "            risk_simulation.input['net_worth'] = row['Net Worth']\n",
    "\n",
    "        # Perform the fuzzy logic simulation\n",
    "        risk_simulation.compute()\n",
    "\n",
    "        # Return the computed risk\n",
    "        return risk_simulation.output['risk']\n",
    "\n",
    "    except KeyError as e:\n",
    "        print(f\"Error: {e}, possibly missing rules or incorrect input\")\n",
    "        return None"
   ]
  },
  {
   "cell_type": "code",
   "execution_count": 148,
   "metadata": {},
   "outputs": [
    {
     "name": "stdout",
     "output_type": "stream",
     "text": [
      "Initial DataFrame:\n",
      "     Age  Annual Income  Net Worth\n",
      "0  25.0        50000.0   300000.0\n",
      "1  40.0            NaN  5000000.0\n",
      "2   NaN      1000000.0        NaN\n",
      "3  65.0       700000.0  9000000.0\n"
     ]
    }
   ],
   "source": [
    "data = {\n",
    "    'Age': [25, 40, np.nan, 65],\n",
    "    'Annual Income': [50000, np.nan, 1000000, 700000],\n",
    "    'Net Worth': [300000, 5000000, np.nan, 9000000]\n",
    "}\n",
    "\n",
    "synthetic_data = pd.DataFrame(data)\n",
    "print(\"Initial DataFrame:\\n\", synthetic_data)"
   ]
  },
  {
   "cell_type": "code",
   "execution_count": 149,
   "metadata": {},
   "outputs": [],
   "source": [
    "synthetic_data['calculated_risk'] = synthetic_data.apply(calculate_risk, axis=1)"
   ]
  },
  {
   "cell_type": "code",
   "execution_count": 150,
   "metadata": {},
   "outputs": [
    {
     "data": {
      "text/html": [
       "<div>\n",
       "<style scoped>\n",
       "    .dataframe tbody tr th:only-of-type {\n",
       "        vertical-align: middle;\n",
       "    }\n",
       "\n",
       "    .dataframe tbody tr th {\n",
       "        vertical-align: top;\n",
       "    }\n",
       "\n",
       "    .dataframe thead th {\n",
       "        text-align: right;\n",
       "    }\n",
       "</style>\n",
       "<table border=\"1\" class=\"dataframe\">\n",
       "  <thead>\n",
       "    <tr style=\"text-align: right;\">\n",
       "      <th></th>\n",
       "      <th>Age</th>\n",
       "      <th>Annual Income</th>\n",
       "      <th>Net Worth</th>\n",
       "      <th>calculated_risk</th>\n",
       "    </tr>\n",
       "  </thead>\n",
       "  <tbody>\n",
       "    <tr>\n",
       "      <th>0</th>\n",
       "      <td>25.0</td>\n",
       "      <td>50000.0</td>\n",
       "      <td>300000.0</td>\n",
       "      <td>81.331699</td>\n",
       "    </tr>\n",
       "    <tr>\n",
       "      <th>1</th>\n",
       "      <td>40.0</td>\n",
       "      <td>NaN</td>\n",
       "      <td>5000000.0</td>\n",
       "      <td>50.000000</td>\n",
       "    </tr>\n",
       "    <tr>\n",
       "      <th>2</th>\n",
       "      <td>NaN</td>\n",
       "      <td>1000000.0</td>\n",
       "      <td>NaN</td>\n",
       "      <td>50.000000</td>\n",
       "    </tr>\n",
       "    <tr>\n",
       "      <th>3</th>\n",
       "      <td>65.0</td>\n",
       "      <td>700000.0</td>\n",
       "      <td>9000000.0</td>\n",
       "      <td>50.000000</td>\n",
       "    </tr>\n",
       "  </tbody>\n",
       "</table>\n",
       "</div>"
      ],
      "text/plain": [
       "    Age  Annual Income  Net Worth  calculated_risk\n",
       "0  25.0        50000.0   300000.0        81.331699\n",
       "1  40.0            NaN  5000000.0        50.000000\n",
       "2   NaN      1000000.0        NaN        50.000000\n",
       "3  65.0       700000.0  9000000.0        50.000000"
      ]
     },
     "execution_count": 150,
     "metadata": {},
     "output_type": "execute_result"
    }
   ],
   "source": [
    "synthetic_data.head()"
   ]
  },
  {
   "cell_type": "code",
   "execution_count": null,
   "metadata": {},
   "outputs": [],
   "source": []
  },
  {
   "cell_type": "code",
   "execution_count": 95,
   "metadata": {},
   "outputs": [
    {
     "name": "stdout",
     "output_type": "stream",
     "text": [
      "43 151128.0 503384.0\n"
     ]
    },
    {
     "ename": "KeyError",
     "evalue": "'risk'",
     "output_type": "error",
     "traceback": [
      "\u001b[0;31m---------------------------------------------------------------------------\u001b[0m",
      "\u001b[0;31mKeyError\u001b[0m                                  Traceback (most recent call last)",
      "Cell \u001b[0;32mIn[95], line 14\u001b[0m\n\u001b[1;32m     10\u001b[0m risk_simulation\u001b[38;5;241m.\u001b[39minput[\u001b[38;5;124m'\u001b[39m\u001b[38;5;124mnet_worth\u001b[39m\u001b[38;5;124m'\u001b[39m] \u001b[38;5;241m=\u001b[39m net_worth_value\n\u001b[1;32m     12\u001b[0m risk_simulation\u001b[38;5;241m.\u001b[39mcompute()\n\u001b[0;32m---> 14\u001b[0m \u001b[38;5;28mprint\u001b[39m(\u001b[38;5;124mf\u001b[39m\u001b[38;5;124m\"\u001b[39m\u001b[38;5;124mIndex: \u001b[39m\u001b[38;5;132;01m{\u001b[39;00mindex\u001b[38;5;132;01m}\u001b[39;00m\u001b[38;5;124m, Calculated Risk: \u001b[39m\u001b[38;5;132;01m{\u001b[39;00m\u001b[43mrisk_simulation\u001b[49m\u001b[38;5;241;43m.\u001b[39;49m\u001b[43moutput\u001b[49m\u001b[43m[\u001b[49m\u001b[38;5;124;43m'\u001b[39;49m\u001b[38;5;124;43mrisk\u001b[39;49m\u001b[38;5;124;43m'\u001b[39;49m\u001b[43m]\u001b[49m\u001b[38;5;132;01m}\u001b[39;00m\u001b[38;5;124m\"\u001b[39m)\n",
      "\u001b[0;31mKeyError\u001b[0m: 'risk'"
     ]
    }
   ],
   "source": [
    "for index, row in synthetic_data.iterrows():\n",
    "    age_value = row['Age']\n",
    "    income_value = row['Annual Income']\n",
    "    net_worth_value = row['Net Worth']\n",
    "\n",
    "    print(age_value, income_value, net_worth_value)\n",
    "    \n",
    "    risk_simulation.input['age'] = age_value\n",
    "    risk_simulation.input['income'] = income_value\n",
    "    risk_simulation.input['net_worth'] = net_worth_value\n",
    "    \n",
    "    risk_simulation.compute()\n",
    "    \n",
    "    print(f\"Index: {index}, Calculated Risk: {risk_simulation.output['risk']}\")\n"
   ]
  },
  {
   "cell_type": "code",
   "execution_count": null,
   "metadata": {},
   "outputs": [],
   "source": []
  },
  {
   "cell_type": "code",
   "execution_count": 120,
   "metadata": {},
   "outputs": [],
   "source": [
    "risk_simulation.input['age'] = 20\n",
    "risk_simulation.input['income'] = 120\n",
    "risk_simulation.input['net_worth'] = 500"
   ]
  },
  {
   "cell_type": "code",
   "execution_count": 121,
   "metadata": {},
   "outputs": [],
   "source": [
    "risk_simulation.compute()"
   ]
  },
  {
   "cell_type": "code",
   "execution_count": 122,
   "metadata": {},
   "outputs": [
    {
     "ename": "KeyError",
     "evalue": "'risk'",
     "output_type": "error",
     "traceback": [
      "\u001b[0;31m---------------------------------------------------------------------------\u001b[0m",
      "\u001b[0;31mKeyError\u001b[0m                                  Traceback (most recent call last)",
      "Cell \u001b[0;32mIn[122], line 1\u001b[0m\n\u001b[0;32m----> 1\u001b[0m \u001b[38;5;28mprint\u001b[39m(\u001b[38;5;124mf\u001b[39m\u001b[38;5;124m\"\u001b[39m\u001b[38;5;124mCalculated Risk: \u001b[39m\u001b[38;5;132;01m{\u001b[39;00m\u001b[43mrisk_simulation\u001b[49m\u001b[38;5;241;43m.\u001b[39;49m\u001b[43moutput\u001b[49m\u001b[43m[\u001b[49m\u001b[38;5;124;43m'\u001b[39;49m\u001b[38;5;124;43mrisk\u001b[39;49m\u001b[38;5;124;43m'\u001b[39;49m\u001b[43m]\u001b[49m\u001b[38;5;132;01m}\u001b[39;00m\u001b[38;5;124m\"\u001b[39m)\n",
      "\u001b[0;31mKeyError\u001b[0m: 'risk'"
     ]
    }
   ],
   "source": [
    "print(f\"Calculated Risk: {risk_simulation.output['risk']}\")"
   ]
  },
  {
   "cell_type": "code",
   "execution_count": 45,
   "metadata": {},
   "outputs": [
    {
     "name": "stdout",
     "output_type": "stream",
     "text": [
      "<skfuzzy.control.controlsystem.ControlSystemSimulation object at 0x16fea4500>\n"
     ]
    }
   ],
   "source": [
    "print(risk_simulation)"
   ]
  },
  {
   "cell_type": "code",
   "execution_count": null,
   "metadata": {},
   "outputs": [],
   "source": []
  }
 ],
 "metadata": {
  "kernelspec": {
   "display_name": "env",
   "language": "python",
   "name": "python3"
  },
  "language_info": {
   "codemirror_mode": {
    "name": "ipython",
    "version": 3
   },
   "file_extension": ".py",
   "mimetype": "text/x-python",
   "name": "python",
   "nbconvert_exporter": "python",
   "pygments_lexer": "ipython3",
   "version": "3.12.2"
  }
 },
 "nbformat": 4,
 "nbformat_minor": 2
}
